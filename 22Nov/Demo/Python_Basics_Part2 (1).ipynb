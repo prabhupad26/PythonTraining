{
  "nbformat": 4,
  "nbformat_minor": 0,
  "metadata": {
    "colab": {
      "name": "Python_Basics_Part2.ipynb",
      "provenance": [],
      "collapsed_sections": []
    },
    "kernelspec": {
      "name": "python3",
      "display_name": "Python 3"
    }
  },
  "cells": [
    {
      "cell_type": "code",
      "metadata": {
        "id": "6gnJZb3IslH_",
        "colab_type": "code",
        "colab": {}
      },
      "source": [
        "def function():\n",
        "  return print(\"Hi\")"
      ],
      "execution_count": 0,
      "outputs": []
    },
    {
      "cell_type": "markdown",
      "metadata": {
        "id": "HtzrqqyKlVgb",
        "colab_type": "text"
      },
      "source": [
        "##Lambda function in python\n",
        "\n",
        "In Python, a <code>lambda</code> function is a single-line function declared with no name, which can have any number of arguments, but it can only have one expression. Such a function is capable of behaving similarly to a regular function declared using the Python's <code>def</code> keyword\n",
        "\n",
        "###Syntax :\n",
        "\n",
        "<code>lambda arguments: expression</code>"
      ]
    },
    {
      "cell_type": "code",
      "metadata": {
        "id": "IKVotpeWlDHW",
        "colab_type": "code",
        "outputId": "3962d64b-0b52-4781-8a17-0dea9e8f44b3",
        "colab": {
          "base_uri": "https://localhost:8080/",
          "height": 34
        }
      },
      "source": [
        "#Example:\n",
        "make_it_even = lambda x:x*2\n",
        "print(make_it_even(3))"
      ],
      "execution_count": 0,
      "outputs": [
        {
          "output_type": "stream",
          "text": [
            "6\n"
          ],
          "name": "stdout"
        }
      ]
    },
    {
      "cell_type": "markdown",
      "metadata": {
        "id": "Rs_yq1RT_1G4",
        "colab_type": "text"
      },
      "source": [
        "##Filter function in python\n",
        "Mostly useful for filtering a list as per logic\n",
        "It takes in two arguments :\n",
        "1. function : where the logic is written, mostly lambda function is used\n",
        "2. list : list to be modified\n",
        "This function returns data of type 'filter' which is 'iterable'\n",
        "\n",
        "###Syntax:\n",
        "<code>filter(function,target_list)</code>\n"
      ]
    },
    {
      "cell_type": "code",
      "metadata": {
        "id": "d1o5Iq-FtOnh",
        "colab_type": "code",
        "outputId": "cc0087e9-6821-422e-843d-deb636e506d7",
        "colab": {
          "base_uri": "https://localhost:8080/",
          "height": 34
        }
      },
      "source": [
        "list(filter(lambda x:x%2 == 0, my_list))"
      ],
      "execution_count": 0,
      "outputs": [
        {
          "output_type": "execute_result",
          "data": {
            "text/plain": [
              "[2, 0, 4]"
            ]
          },
          "metadata": {
            "tags": []
          },
          "execution_count": 25
        }
      ]
    },
    {
      "cell_type": "code",
      "metadata": {
        "id": "02TicQ6RregX",
        "colab_type": "code",
        "outputId": "cb7f89e1-6a78-4cf4-cd74-09f6349e976d",
        "colab": {
          "base_uri": "https://localhost:8080/",
          "height": 84
        }
      },
      "source": [
        "# Print even numbers from the list\n",
        "my_list = [1,2,0,4,5]\n",
        "# Ex1:\n",
        "for i in filter(lambda x:x%2 == 0, my_list):\n",
        "  print(i)\n",
        "# Ex2:\n",
        "print(list(filter(lambda x:x%2 == 0, my_list)))\n"
      ],
      "execution_count": 0,
      "outputs": [
        {
          "output_type": "stream",
          "text": [
            "2\n",
            "0\n",
            "4\n",
            "[2, 0, 4]\n"
          ],
          "name": "stdout"
        }
      ]
    },
    {
      "cell_type": "markdown",
      "metadata": {
        "id": "yvy1xNPHIS4l",
        "colab_type": "text"
      },
      "source": [
        "##Map function in python\n",
        "Used to modify each and every element of the **iterables**\n",
        "\n",
        "###Syntax (same as filter):\n",
        "\n",
        "<code>map(function , iterables)</code>\n",
        "returns a data of type map which can be further converted to type list , set ,etc.\n"
      ]
    },
    {
      "cell_type": "code",
      "metadata": {
        "id": "qw3qBu5T4pcD",
        "colab_type": "code",
        "outputId": "408e4f21-8ed2-4e0d-f250-87ea0639714e",
        "colab": {
          "base_uri": "https://localhost:8080/",
          "height": 34
        }
      },
      "source": [
        "def calculateSquare(n):\n",
        "  return n*n\n",
        "\n",
        "numbers = (1, 2, 3, 4)\n",
        "result = map(calculateSquare, (i for i in range(10)))\n",
        "print(list(result))"
      ],
      "execution_count": 0,
      "outputs": [
        {
          "output_type": "stream",
          "text": [
            "[0, 1, 4, 9, 16, 25, 36, 49, 64, 81]\n"
          ],
          "name": "stdout"
        }
      ]
    },
    {
      "cell_type": "code",
      "metadata": {
        "id": "iQJg3oCz8qn3",
        "colab_type": "code",
        "outputId": "d08629ea-1e77-4fdb-96bf-5c51e0c3c15f",
        "colab": {
          "base_uri": "https://localhost:8080/",
          "height": 34
        }
      },
      "source": [
        "my_list = [2,4,5,6,7]\n",
        "# Ex1:\n",
        "# for i in map(lambda x:x%2 == 0, my_list):\n",
        "#   print(i)\n",
        "# Ex2:\n",
        "print(list(map(lambda x:x*2, my_list)))\n"
      ],
      "execution_count": 0,
      "outputs": [
        {
          "output_type": "stream",
          "text": [
            "[4, 8, 10, 12, 14]\n"
          ],
          "name": "stdout"
        }
      ]
    },
    {
      "cell_type": "code",
      "metadata": {
        "id": "dx2ZckYTuu48",
        "colab_type": "code",
        "colab": {}
      },
      "source": [
        ""
      ],
      "execution_count": 0,
      "outputs": []
    },
    {
      "cell_type": "markdown",
      "metadata": {
        "id": "x_sAzdqbJJMd",
        "colab_type": "text"
      },
      "source": [
        "## Zip function in python\n",
        "The <code>zip()</code> function returns an iterator of tuples based on the iterable object.\n",
        "\n",
        "###Syntax:\n",
        "<code>zip(iterabels,...)</code> <code>#Input is optional, if no args are provided an empty iterable will be created</code> \n",
        "\n"
      ]
    },
    {
      "cell_type": "code",
      "metadata": {
        "id": "R4COyOnTvGsF",
        "colab_type": "code",
        "outputId": "a78d0be7-2291-46f1-9d24-c7d689fe1273",
        "colab": {
          "base_uri": "https://localhost:8080/",
          "height": 67
        }
      },
      "source": [
        "numberList = [1, 2, 3]\n",
        "strList = ['one', 'two', 'three','four']\n",
        "\n",
        "for i in zip(numberList,strList):\n",
        "  print(i)"
      ],
      "execution_count": 0,
      "outputs": [
        {
          "output_type": "stream",
          "text": [
            "(1, 'one')\n",
            "(2, 'two')\n",
            "(3, 'three')\n"
          ],
          "name": "stdout"
        }
      ]
    },
    {
      "cell_type": "code",
      "metadata": {
        "id": "0HdWQA6E98qL",
        "colab_type": "code",
        "outputId": "a94f64ea-da71-4ad7-cfd7-b5a858fff143",
        "colab": {
          "base_uri": "https://localhost:8080/",
          "height": 50
        }
      },
      "source": [
        "numberList = [1, 2, 3]\n",
        "strList = ['one', 'two', 'three']\n",
        "\n",
        "# No iterables are passed\n",
        "result = zip()\n",
        "\n",
        "# Converting itertor to list\n",
        "resultList = list(result)\n",
        "print(resultList)\n",
        "\n",
        "# Two iterables are passed\n",
        "result = zip(numberList, strList)\n",
        "\n",
        "# Converting itertor to set\n",
        "resultSet = set(result)\n",
        "print(resultSet)"
      ],
      "execution_count": 0,
      "outputs": [
        {
          "output_type": "stream",
          "text": [
            "[]\n",
            "{(3, 'three'), (2, 'two'), (1, 'one')}\n"
          ],
          "name": "stdout"
        }
      ]
    },
    {
      "cell_type": "markdown",
      "metadata": {
        "id": "WtBIbb0jMDe4",
        "colab_type": "text"
      },
      "source": [
        "##Enumerate function in python\n",
        "\n",
        "The enumerate() method adds counter to an iterable and returns it. The returned object is a enumerate object.This enumerate object can further be converted into list,tuple,set etc.\n",
        "\n",
        "###Syntax:\n",
        "<code>enumerate(iterable,start = 0)</code>"
      ]
    },
    {
      "cell_type": "code",
      "metadata": {
        "id": "l2Npcfn7-Cjk",
        "colab_type": "code",
        "outputId": "335418c2-b439-4f69-bbfb-b818c3aedef9",
        "colab": {
          "base_uri": "https://localhost:8080/",
          "height": 67
        }
      },
      "source": [
        "strList = ['one', 'two', 'three']\n",
        "for i in enumerate(strList,start = 10):\n",
        "  print(list(i))"
      ],
      "execution_count": 0,
      "outputs": [
        {
          "output_type": "stream",
          "text": [
            "[10, 'one']\n",
            "[11, 'two']\n",
            "[12, 'three']\n"
          ],
          "name": "stdout"
        }
      ]
    },
    {
      "cell_type": "markdown",
      "metadata": {
        "id": "HoLgMvSaNSRP",
        "colab_type": "text"
      },
      "source": [
        "###Error Handling\n"
      ]
    },
    {
      "cell_type": "markdown",
      "metadata": {
        "id": "7Y7-kzxyOtKv",
        "colab_type": "text"
      },
      "source": [
        "Most basic syntax:\n",
        "\n",
        "\n",
        "\n",
        "```\n",
        "try:\n",
        "    # some statements here\n",
        "except:\n",
        "    # exception handling\n",
        "```\n",
        "\n",
        "try-except-else clause\n",
        "try-except-finally clause\n",
        "\n"
      ]
    },
    {
      "cell_type": "code",
      "metadata": {
        "id": "p7peEKkvLIjL",
        "colab_type": "code",
        "outputId": "dc9a2d28-4a13-4836-9f45-e6d415de1854",
        "colab": {
          "base_uri": "https://localhost:8080/",
          "height": 67
        }
      },
      "source": [
        "a = [-1,0,1]\n",
        "try:\n",
        "  for i in a:\n",
        "    print(i/i-1)\n",
        "except ValueError:\n",
        "  print(\"Value error\")\n",
        "except ZeroDivisionError:\n",
        "  print(\"Zero div error\")\n",
        "except:\n",
        "  print(\"Default error\")\n",
        "finally:\n",
        "  print(\"FInally\")"
      ],
      "execution_count": 0,
      "outputs": [
        {
          "output_type": "stream",
          "text": [
            "0.0\n",
            "Zero div error\n",
            "FInally\n"
          ],
          "name": "stdout"
        }
      ]
    },
    {
      "cell_type": "code",
      "metadata": {
        "id": "BHqtnsl_O8ZJ",
        "colab_type": "code",
        "outputId": "2e828d34-e691-4e02-fe4d-a5cf1b4b4476",
        "colab": {
          "base_uri": "https://localhost:8080/",
          "height": 162
        }
      },
      "source": [
        "raise Exception('Zero')"
      ],
      "execution_count": 0,
      "outputs": [
        {
          "output_type": "error",
          "ename": "Exception",
          "evalue": "ignored",
          "traceback": [
            "\u001b[0;31m---------------------------------------------------------------------------\u001b[0m",
            "\u001b[0;31mException\u001b[0m                                 Traceback (most recent call last)",
            "\u001b[0;32m<ipython-input-50-418109cc0352>\u001b[0m in \u001b[0;36m<module>\u001b[0;34m()\u001b[0m\n\u001b[0;32m----> 1\u001b[0;31m \u001b[0;32mraise\u001b[0m \u001b[0mException\u001b[0m\u001b[0;34m(\u001b[0m\u001b[0;34m'Zero'\u001b[0m\u001b[0;34m)\u001b[0m\u001b[0;34m\u001b[0m\u001b[0;34m\u001b[0m\u001b[0m\n\u001b[0m",
            "\u001b[0;31mException\u001b[0m: Zero"
          ]
        }
      ]
    },
    {
      "cell_type": "markdown",
      "metadata": {
        "id": "9vKVFiAIRVGJ",
        "colab_type": "text"
      },
      "source": [
        "##File Handling"
      ]
    },
    {
      "cell_type": "code",
      "metadata": {
        "id": "0zTr7hLCQDJ5",
        "colab_type": "code",
        "colab": {}
      },
      "source": [
        "import os"
      ],
      "execution_count": 0,
      "outputs": []
    },
    {
      "cell_type": "code",
      "metadata": {
        "id": "YltiI8P2SxN7",
        "colab_type": "code",
        "colab": {}
      },
      "source": [
        "os.listdir()"
      ],
      "execution_count": 0,
      "outputs": []
    },
    {
      "cell_type": "code",
      "metadata": {
        "id": "iSeMfZrWSy5j",
        "colab_type": "code",
        "colab": {}
      },
      "source": [
        "os.chdir('..')"
      ],
      "execution_count": 0,
      "outputs": []
    },
    {
      "cell_type": "code",
      "metadata": {
        "id": "bIfUZSy2S1un",
        "colab_type": "code",
        "outputId": "943e96de-6dad-464b-95ab-420b4458cf77",
        "colab": {
          "base_uri": "https://localhost:8080/",
          "height": 34
        }
      },
      "source": [
        "os.path.join(os.getcwd(),'california_housing_test.csv')"
      ],
      "execution_count": 0,
      "outputs": [
        {
          "output_type": "execute_result",
          "data": {
            "text/plain": [
              "'/content/sample_data/california_housing_test.csv'"
            ]
          },
          "metadata": {
            "tags": []
          },
          "execution_count": 83
        }
      ]
    },
    {
      "cell_type": "code",
      "metadata": {
        "id": "-2bP5xWIS4cz",
        "colab_type": "code",
        "outputId": "0885f07a-d202-4f94-8454-f8015a53b9c2",
        "colab": {
          "base_uri": "https://localhost:8080/",
          "height": 118
        }
      },
      "source": [
        "for i in os.walk('.'):\n",
        "  print(i)"
      ],
      "execution_count": 0,
      "outputs": [
        {
          "output_type": "stream",
          "text": [
            "('.', ['.config', 'sample_data'], [])\n",
            "('./.config', ['logs', 'configurations'], ['config_sentinel', 'active_config', 'gce', '.last_survey_prompt.yaml', '.last_update_check.json', '.metricsUUID'])\n",
            "('./.config/logs', ['2019.11.15'], [])\n",
            "('./.config/logs/2019.11.15', [], ['16.31.27.707063.log', '16.31.11.336354.log', '16.31.06.249545.log', '16.31.22.131802.log', '16.31.26.675235.log'])\n",
            "('./.config/configurations', [], ['config_default'])\n",
            "('./sample_data', [], ['anscombe.json', 'README.md', 'mnist_test.csv', 'california_housing_train.csv', 'mnist_train_small.csv', 'california_housing_test.csv'])\n"
          ],
          "name": "stdout"
        }
      ]
    },
    {
      "cell_type": "markdown",
      "metadata": {
        "id": "-TmAGoE6x6Yc",
        "colab_type": "text"
      },
      "source": [
        "##Object Oriented programming in python\n",
        "\n",
        "1. Class declaration\n",
        "2. Objects\n"
      ]
    },
    {
      "cell_type": "code",
      "metadata": {
        "id": "gZldycd1TFCv",
        "colab_type": "code",
        "outputId": "a42fe0a5-119a-493e-83a9-fd35ff7f0db7",
        "colab": {
          "base_uri": "https://localhost:8080/",
          "height": 50
        }
      },
      "source": [
        "class Car:\n",
        "  carType = 'LMV'\n",
        "  def __init__(self,model,year):\n",
        "    self.model = model\n",
        "    self.year = year\n",
        "    print('Class instantiated')\n",
        "    self.showPrice(year)\n",
        "  def showPrice(self,showYear):\n",
        "    self.showYear = showYear\n",
        "    if self.model.lower() == 'mercedes':\n",
        "      print(\"The price for {} is {} in year {}\".format(self.model, 160000,self.year))\n",
        "\n",
        "obj = Car('Mercedes',1990)\n"
      ],
      "execution_count": 0,
      "outputs": [
        {
          "output_type": "stream",
          "text": [
            "Class instantiated\n",
            "The price for Mercedes is 160000 in year 1990\n"
          ],
          "name": "stdout"
        }
      ]
    },
    {
      "cell_type": "code",
      "metadata": {
        "id": "vPXrchu99PMw",
        "colab_type": "code",
        "outputId": "48d9ee1f-6609-4c59-ac14-75638ddb569f",
        "colab": {
          "base_uri": "https://localhost:8080/",
          "height": 101
        }
      },
      "source": [
        "# parent class\n",
        "class Bird:\n",
        "    \n",
        "    def __init__(self):\n",
        "        print(\"Bird is ready\")\n",
        "\n",
        "    def whoisThis(self):\n",
        "        print(\"Bird\")\n",
        "\n",
        "    def swim(self):\n",
        "        print(\"Swim faster\")\n",
        "\n",
        "# child class\n",
        "class Penguin(Bird):\n",
        "\n",
        "    def __init__(self):\n",
        "        # call super() function\n",
        "        super().__init__()\n",
        "        print(\"Penguin is ready\")\n",
        "\n",
        "    def whoisThis(self):\n",
        "        print(\"Penguin\")\n",
        "\n",
        "    def run(self):\n",
        "        print(\"Run faster\")\n",
        "\n",
        "peggy = Penguin()\n",
        "peggy.whoisThis()\n",
        "peggy.swim()\n",
        "peggy.run()"
      ],
      "execution_count": 0,
      "outputs": [
        {
          "output_type": "stream",
          "text": [
            "Bird is ready\n",
            "Penguin is ready\n",
            "Penguin\n",
            "Swim faster\n",
            "Run faster\n"
          ],
          "name": "stdout"
        }
      ]
    },
    {
      "cell_type": "code",
      "metadata": {
        "id": "5QITosk69nJr",
        "colab_type": "code",
        "colab": {}
      },
      "source": [
        ""
      ],
      "execution_count": 0,
      "outputs": []
    },
    {
      "cell_type": "code",
      "metadata": {
        "id": "9wMoABJs9nCH",
        "colab_type": "code",
        "colab": {}
      },
      "source": [
        ""
      ],
      "execution_count": 0,
      "outputs": []
    }
  ]
}